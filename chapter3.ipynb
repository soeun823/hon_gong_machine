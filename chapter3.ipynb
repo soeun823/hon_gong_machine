{
  "nbformat": 4,
  "nbformat_minor": 0,
  "metadata": {
    "colab": {
      "provenance": [],
      "authorship_tag": "ABX9TyOzGvWrg2Cjrwq/2oIM+hDt",
      "include_colab_link": true
    },
    "kernelspec": {
      "name": "python3",
      "display_name": "Python 3"
    },
    "language_info": {
      "name": "python"
    }
  },
  "cells": [
    {
      "cell_type": "markdown",
      "metadata": {
        "id": "view-in-github",
        "colab_type": "text"
      },
      "source": [
        "<a href=\"https://colab.research.google.com/github/soeun823/hon_gong_machine/blob/master/chapter3.ipynb\" target=\"_parent\"><img src=\"https://colab.research.google.com/assets/colab-badge.svg\" alt=\"Open In Colab\"/></a>"
      ]
    },
    {
      "cell_type": "markdown",
      "source": [
        "**문제**<br>\n",
        ": 농어길이를 가지고 농어 무게를 예측, 다른 농어 데이터로 학습"
      ],
      "metadata": {
        "id": "27tklgkO7unT"
      }
    },
    {
      "cell_type": "markdown",
      "source": [
        "#K-최근접이웃회귀"
      ],
      "metadata": {
        "id": "i6aGQq3ijNB0"
      }
    },
    {
      "cell_type": "markdown",
      "source": [
        ": 지도 알고리즘\n",
        "\n",
        "\n",
        "*   분류\n",
        "*   회귀 : 임의 어떤 숫자(값)을 예측<br>\n",
        "    => 이웃한 샘플의 타깃값으로 평균을 내어 예측\n",
        "\n",
        "\n",
        "\n",
        "> 혼공머신 115pg에 개념~\n",
        "\n",
        "\n"
      ],
      "metadata": {
        "id": "-Musz_mTjezW"
      }
    },
    {
      "cell_type": "code",
      "execution_count": 1,
      "metadata": {
        "id": "HLtkELpijGaA"
      },
      "outputs": [],
      "source": [
        "import numpy as np\n",
        "perch_length = np.array([8.4, 13.7, 15.0, 16.2, 17.4, 18.0, 18.7, 19.0, 19.6, 20.0, 21.0,\n",
        "       21.0, 21.0, 21.3, 22.0, 22.0, 22.0, 22.0, 22.0, 22.5, 22.5, 22.7,\n",
        "       23.0, 23.5, 24.0, 24.0, 24.6, 25.0, 25.6, 26.5, 27.3, 27.5, 27.5,\n",
        "       27.5, 28.0, 28.7, 30.0, 32.8, 34.5, 35.0, 36.5, 36.0, 37.0, 37.0,\n",
        "       39.0, 39.0, 39.0, 40.0, 40.0, 40.0, 40.0, 42.0, 43.0, 43.0, 43.5,\n",
        "       44.0])\n",
        "perch_weight = np.array([5.9, 32.0, 40.0, 51.5, 70.0, 100.0, 78.0, 80.0, 85.0, 85.0, 110.0,\n",
        "       115.0, 125.0, 130.0, 120.0, 120.0, 130.0, 135.0, 110.0, 130.0,\n",
        "       150.0, 145.0, 150.0, 170.0, 225.0, 145.0, 188.0, 180.0, 197.0,\n",
        "       218.0, 300.0, 260.0, 265.0, 250.0, 250.0, 300.0, 320.0, 514.0,\n",
        "       556.0, 840.0, 685.0, 700.0, 700.0, 690.0, 900.0, 650.0, 820.0,\n",
        "       850.0, 900.0, 1015.0, 820.0, 1100.0, 1000.0, 1100.0, 1000.0,\n",
        "       1000.0])"
      ]
    },
    {
      "cell_type": "code",
      "source": [
        "import matplotlib.pyplot as plt\n",
        "plt.scatter(perch_length, perch_weight)\n",
        "plt.xlabel(\"lenght\")\n",
        "plt.ylabel(\"weight\")\n",
        "plt.show()"
      ],
      "metadata": {
        "colab": {
          "base_uri": "https://localhost:8080/",
          "height": 449
        },
        "id": "rXjYhaTgnPjp",
        "outputId": "e108c7c4-b08a-49bb-e23b-2a675ea55aac"
      },
      "execution_count": 2,
      "outputs": [
        {
          "output_type": "display_data",
          "data": {
            "text/plain": [
              "<Figure size 640x480 with 1 Axes>"
            ],
            "image/png": "[encoded data removed]"
          },
          "metadata": {}
        }
      ]
    },
    {
      "cell_type": "code",
      "source": [
        "from sklearn.model_selection import train_test_split\n",
        "train_input, test_input, train_target, test_target = train_test_split(perch_length, perch_weight, random_state=42)"
      ],
      "metadata": {
        "id": "5JBKsZV9oBf8"
      },
      "execution_count": 3,
      "outputs": []
    },
    {
      "cell_type": "code",
      "source": [
        "test_array = np.array([1,2,3,4])\n",
        "print(test_array.shape)"
      ],
      "metadata": {
        "colab": {
          "base_uri": "https://localhost:8080/"
        },
        "id": "8LmJ1kehqmh4",
        "outputId": "64de3125-e4a3-4d25-a05d-929832e0993e"
      },
      "execution_count": 4,
      "outputs": [
        {
          "output_type": "stream",
          "name": "stdout",
          "text": [
            "(4,)\n"
          ]
        }
      ]
    },
    {
      "cell_type": "code",
      "source": [
        "test_array = test_array.reshape(2,2)#배열 크기 지정\n",
        "print(test_array.shape)"
      ],
      "metadata": {
        "colab": {
          "base_uri": "https://localhost:8080/"
        },
        "id": "uzlXZnlxq8mX",
        "outputId": "671abd0c-e622-4ca2-b906-9d64811ddc97"
      },
      "execution_count": 5,
      "outputs": [
        {
          "output_type": "stream",
          "name": "stdout",
          "text": [
            "(2, 2)\n"
          ]
        }
      ]
    },
    {
      "cell_type": "code",
      "source": [
        "train_input = train_input.reshape(-1,1)\n",
        "test_input = test_input.reshape(-1,1)\n",
        "print(train_input.shape, test_input.shape)"
      ],
      "metadata": {
        "colab": {
          "base_uri": "https://localhost:8080/"
        },
        "id": "NApkHBrArjq3",
        "outputId": "e4ab16fb-db4e-40ed-e687-8e7e5def4ed6"
      },
      "execution_count": 6,
      "outputs": [
        {
          "output_type": "stream",
          "name": "stdout",
          "text": [
            "(42, 1) (14, 1)\n"
          ]
        }
      ]
    },
    {
      "cell_type": "code",
      "source": [
        "from sklearn.neighbors import KNeighborsRegressor\n",
        "knr = KNeighborsRegressor()\n",
        "#k-최근접 이웃 회귀 모델을 훈련 합니다.\n",
        "knr.fit(train_input, train_target)\n",
        "print(knr.score(test_input,test_target))"
      ],
      "metadata": {
        "colab": {
          "base_uri": "https://localhost:8080/"
        },
        "id": "asxNiqnG7e_X",
        "outputId": "4f3ee9a9-581b-44aa-d383-a2e140797bfe"
      },
      "execution_count": 7,
      "outputs": [
        {
          "output_type": "stream",
          "name": "stdout",
          "text": [
            "0.992809406101064\n"
          ]
        }
      ]
    },
    {
      "cell_type": "markdown",
      "source": [
        "회귀에서는 예측하는 값이 모두 임의의 수이기 때문에 정확한 숫자를 맞힌다는 것은 불가능하다.<br>\n",
        "회귀에서 평가하는 점수 :: **결정계수($R^2$)**<br>\n",
        "$R^2 = 1 - \\frac{(타깃 - 측)^2의 합}{(타깃 - 평균)^2의 합}$"
      ],
      "metadata": {
        "id": "qlNnk7mkuqqV"
      }
    },
    {
      "cell_type": "code",
      "source": [
        "from sklearn.metrics import mean_absolute_error\n",
        "\n",
        "test_prediction = knr.predict(test_input)\n",
        "\n",
        "mae = mean_absolute_error(test_target, test_prediction)\n",
        "print(mae)"
      ],
      "metadata": {
        "colab": {
          "base_uri": "https://localhost:8080/"
        },
        "id": "7yVvjevMuqJP",
        "outputId": "2e5deb10-e2bc-429a-a70e-a7daf766ddd5"
      },
      "execution_count": 8,
      "outputs": [
        {
          "output_type": "stream",
          "name": "stdout",
          "text": [
            "19.157142857142862\n"
          ]
        }
      ]
    },
    {
      "cell_type": "code",
      "source": [
        "print(knr.score(train_input, train_target))"
      ],
      "metadata": {
        "colab": {
          "base_uri": "https://localhost:8080/"
        },
        "id": "m3QbsLcN4B6S",
        "outputId": "e7bf1bca-7b6f-4ab2-b88e-94367df8f2c3"
      },
      "execution_count": 10,
      "outputs": [
        {
          "output_type": "stream",
          "name": "stdout",
          "text": [
            "0.9698823289099254\n"
          ]
        }
      ]
    },
    {
      "cell_type": "markdown",
      "source": [
        "훈련세트 점수 > 테스트새트 점수 : **과대 접합**<br>\n",
        "테스트세트 점수 > 훈련세트 점수 or 두점수 모두 낮을 때 : **과소 접합**"
      ],
      "metadata": {
        "id": "JRsMCLzg4yg3"
      }
    },
    {
      "cell_type": "code",
      "source": [
        "knr.n_neighbors = 3 #이웃의 갯수 = 3\n",
        "\n",
        "knr.fit(train_input, train_target)\n",
        "print(knr.score(train_input, train_target))"
      ],
      "metadata": {
        "colab": {
          "base_uri": "https://localhost:8080/"
        },
        "id": "w3swlsF_4x39",
        "outputId": "2aafe557-8de7-467d-d0ae-2077249ecb13"
      },
      "execution_count": 11,
      "outputs": [
        {
          "output_type": "stream",
          "name": "stdout",
          "text": [
            "0.9804899950518966\n"
          ]
        }
      ]
    },
    {
      "cell_type": "markdown",
      "source": [
        "k 값을 줄였더니 훈련 세트의 $R^2$의 값이 높아짐"
      ],
      "metadata": {
        "id": "i4aBNX4050V-"
      }
    },
    {
      "cell_type": "code",
      "source": [
        "print(knr.score(test_input, test_target))# 성공적으로 잘 된거 같음!!!\n",
        "#혼공 머신의 실력이 날로 늘어나는 군~"
      ],
      "metadata": {
        "colab": {
          "base_uri": "https://localhost:8080/"
        },
        "id": "vh_yp_hw59h_",
        "outputId": "2bb65d00-ea72-489c-e4c1-68f2f739e42a"
      },
      "execution_count": 13,
      "outputs": [
        {
          "output_type": "stream",
          "name": "stdout",
          "text": [
            "0.9746459963987609\n"
          ]
        }
      ]
    },
    {
      "cell_type": "markdown",
      "source": [
        "**회귀문제 다루기**:문제 해결"
      ],
      "metadata": {
        "id": "u7ObVJ8x6Obi"
      }
    },
    {
      "cell_type": "markdown",
      "source": [
        "#선형회귀"
      ],
      "metadata": {
        "id": "ilJD2j5m7anh"
      }
    },
    {
      "cell_type": "markdown",
      "source": [
        "홈공머신이 앞서 만든 모델을 사용해 예측을 한 값과 <br>\n",
        "저울로 잰 값이 너무 나도 차이가 남ㅠㅠ"
      ],
      "metadata": {
        "id": "wSHHxf6v9U77"
      }
    },
    {
      "cell_type": "code",
      "source": [
        "import numpy as np\n",
        "perch_length = np.array([8.4, 13.7, 15.0, 16.2, 17.4, 18.0, 18.7, 19.0, 19.6, 20.0, 21.0,\n",
        "       21.0, 21.0, 21.3, 22.0, 22.0, 22.0, 22.0, 22.0, 22.5, 22.5, 22.7,\n",
        "       23.0, 23.5, 24.0, 24.0, 24.6, 25.0, 25.6, 26.5, 27.3, 27.5, 27.5,\n",
        "       27.5, 28.0, 28.7, 30.0, 32.8, 34.5, 35.0, 36.5, 36.0, 37.0, 37.0,\n",
        "       39.0, 39.0, 39.0, 40.0, 40.0, 40.0, 40.0, 42.0, 43.0, 43.0, 43.5,\n",
        "       44.0])\n",
        "perch_weight = np.array([5.9, 32.0, 40.0, 51.5, 70.0, 100.0, 78.0, 80.0, 85.0, 85.0, 110.0,\n",
        "       115.0, 125.0, 130.0, 120.0, 120.0, 130.0, 135.0, 110.0, 130.0,\n",
        "       150.0, 145.0, 150.0, 170.0, 225.0, 145.0, 188.0, 180.0, 197.0,\n",
        "       218.0, 300.0, 260.0, 265.0, 250.0, 250.0, 300.0, 320.0, 514.0,\n",
        "       556.0, 840.0, 685.0, 700.0, 700.0, 690.0, 900.0, 650.0, 820.0,\n",
        "       850.0, 900.0, 1015.0, 820.0, 1100.0, 1000.0, 1100.0, 1000.0,\n",
        "       1000.0])"
      ],
      "metadata": {
        "id": "upiaaGGE7e-a"
      },
      "execution_count": 1,
      "outputs": []
    },
    {
      "cell_type": "code",
      "source": [
        "from sklearn.model_selection import train_test_split\n",
        "\n",
        "train_input, test_input, train_target, test_target = train_test_split(perch_length, perch_weight, random_state=42)\n",
        "train_input = train_input.reshape(-1,1)\n",
        "test_input = test_input.reshape(-1,1)"
      ],
      "metadata": {
        "id": "K-1BPvrM-RdX"
      },
      "execution_count": 3,
      "outputs": []
    },
    {
      "cell_type": "code",
      "source": [
        "from sklearn.neighbors import KNeighborsRegressor\n",
        "knr = KNeighborsRegressor(n_neighbors=3)\n",
        "knr.fit(train_input, train_target)\n",
        "print(knr.predict([[50]]))"
      ],
      "metadata": {
        "colab": {
          "base_uri": "https://localhost:8080/"
        },
        "id": "manj-gKz_GtJ",
        "outputId": "2896d3b0-c62a-4e64-9dd1-a018e4130e79"
      },
      "execution_count": 6,
      "outputs": [
        {
          "output_type": "stream",
          "name": "stdout",
          "text": [
            "[1033.33333333]\n"
          ]
        }
      ]
    },
    {
      "cell_type": "code",
      "source": [
        "import matplotlib.pyplot as plt\n",
        "distances, indexes = knr.kneighbors([[50]])\n",
        "plt.scatter(train_input, train_target)\n",
        "plt.scatter(train_input[indexes],train_target[indexes], marker=\"D\")#이웃 샘플을 그림\n",
        "\n",
        "plt.scatter(50,1033,marker=\"^\")\n",
        "plt.xlabel(\"lenght\")\n",
        "plt.ylabel(\"weight\")\n",
        "plt.show()\n",
        "\n",
        "#산점도를 보면 그래프가 오른족 위로 올라가는 형태라, 길이가 커질수록 무게가 올라간다,\n",
        "#하지만 50cm 농어가 훈련세트의 범위에서 벗어나 엉뚱한 값으로 예측한다.\n",
        "print(np.mean(train_target[indexes])) #여전히 엉뚱한 값\n",
        "print(knr.predict([[100]]))#=>길이가 100cm 여도 가장 가까운 녀석들의 평균 값을 출력하니 같은 값이 나올것임"
      ],
      "metadata": {
        "colab": {
          "base_uri": "https://localhost:8080/",
          "height": 485
        },
        "id": "WdD1XedJAkDi",
        "outputId": "eb778681-bb3d-4b8e-8e0e-982a0d78e2d9"
      },
      "execution_count": 13,
      "outputs": [
        {
          "output_type": "display_data",
          "data": {
            "text/plain": [
              "<Figure size 640x480 with 1 Axes>"
            ],
            "image/png": "[encoded data removed]"
          },
          "metadata": {}
        },
        {
          "output_type": "stream",
          "name": "stdout",
          "text": [
            "1033.3333333333333\n",
            "[1033.33333333]\n"
          ]
        }
      ]
    },
    {
      "cell_type": "markdown",
      "source": [
        "결론 :<br>\n",
        "k-최근접 이웃 말고 다른 알고리즘을 찾아보자!!!!\n",
        "<br><br>\n",
        "**선형 회귀**"
      ],
      "metadata": {
        "id": "8lUt0aAwDAI1"
      }
    },
    {
      "cell_type": "code",
      "source": [
        "# from sklearn.linear_model"
      ],
      "metadata": {
        "id": "yHmORd6FDiZB"
      },
      "execution_count": null,
      "outputs": []
    }
  ]
}