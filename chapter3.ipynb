{
 "nbformat": 4,
 "nbformat_minor": 0,
 "metadata": {
  "colab": {
   "provenance": [],
   "authorship_tag": "ABX9TyNJoamZPj/sT/oF1RXXoICd",
   "include_colab_link": true
  },
  "kernelspec": {
   "name": "python3",
   "display_name": "Python 3 (ipykernel)",
   "language": "python"
  },
  "language_info": {
   "name": "python"
  }
 },
 "cells": [
  {
   "cell_type": "markdown",
   "metadata": {
    "id": "view-in-github",
    "colab_type": "text"
   },
   "source": [
    "<a href=\"https://colab.research.google.com/github/soeun823/hon_gong_machine/blob/master/chapter3.ipynb\" target=\"_parent\"><img src=\"https://colab.research.google.com/assets/colab-badge.svg\" alt=\"Open In Colab\"/></a>"
   ]
  },
  {
   "cell_type": "markdown",
   "source": [
    "**문제**<br>\n",
    ": 농어길이를 가지고 농어 무게를 예측, 다른 농어 데이터로 학습"
   ],
   "metadata": {
    "id": "27tklgkO7unT"
   }
  },
  {
   "cell_type": "markdown",
   "source": "# K-최근접이웃회귀",
   "metadata": {
    "id": "i6aGQq3ijNB0"
   }
  },
  {
   "cell_type": "markdown",
   "source": [
    ": 지도 알고리즘\n",
    "\n",
    "\n",
    "*   분류\n",
    "*   회귀 : 임의 어떤 숫자(값)을 예측<br>\n",
    "    => 이웃한 샘플의 타깃값으로 평균을 내어 예측\n",
    "\n",
    "\n",
    "\n",
    "> 혼공머신 115pg에 개념~\n",
    "\n",
    "\n"
   ],
   "metadata": {
    "id": "-Musz_mTjezW"
   }
  },
  {
   "cell_type": "code",
   "execution_count": 1,
   "metadata": {
    "id": "HLtkELpijGaA"
   },
   "outputs": [],
   "source": [
    "import numpy as np\n",
    "perch_length = np.array([8.4, 13.7, 15.0, 16.2, 17.4, 18.0, 18.7, 19.0, 19.6, 20.0, 21.0,\n",
    "       21.0, 21.0, 21.3, 22.0, 22.0, 22.0, 22.0, 22.0, 22.5, 22.5, 22.7,\n",
    "       23.0, 23.5, 24.0, 24.0, 24.6, 25.0, 25.6, 26.5, 27.3, 27.5, 27.5,\n",
    "       27.5, 28.0, 28.7, 30.0, 32.8, 34.5, 35.0, 36.5, 36.0, 37.0, 37.0,\n",
    "       39.0, 39.0, 39.0, 40.0, 40.0, 40.0, 40.0, 42.0, 43.0, 43.0, 43.5,\n",
    "       44.0])\n",
    "perch_weight = np.array([5.9, 32.0, 40.0, 51.5, 70.0, 100.0, 78.0, 80.0, 85.0, 85.0, 110.0,\n",
    "       115.0, 125.0, 130.0, 120.0, 120.0, 130.0, 135.0, 110.0, 130.0,\n",
    "       150.0, 145.0, 150.0, 170.0, 225.0, 145.0, 188.0, 180.0, 197.0,\n",
    "       218.0, 300.0, 260.0, 265.0, 250.0, 250.0, 300.0, 320.0, 514.0,\n",
    "       556.0, 840.0, 685.0, 700.0, 700.0, 690.0, 900.0, 650.0, 820.0,\n",
    "       850.0, 900.0, 1015.0, 820.0, 1100.0, 1000.0, 1100.0, 1000.0,\n",
    "       1000.0])"
   ]
  },
  {
   "cell_type": "code",
   "source": [
    "import matplotlib.pyplot as plt\n",
    "plt.scatter(perch_length, perch_weight)\n",
    "plt.xlabel(\"lenght\")\n",
    "plt.ylabel(\"weight\")\n",
    "plt.show()"
   ],
   "metadata": {
    "colab": {
     "base_uri": "https://localhost:8080/",
     "height": 449
    },
    "id": "rXjYhaTgnPjp",
    "outputId": "e108c7c4-b08a-49bb-e23b-2a675ea55aac"
   },
   "execution_count": 2,
   "outputs": [
    {
     "output_type": "display_data",
     "data": {
      "text/plain": [
       "<Figure size 640x480 with 1 Axes>"
      ],
      "image/png": "[encoded data removed]"
     },
     "metadata": {}
    }
   ]
  },
  {
   "cell_type": "code",
   "source": [
    "from sklearn.model_selection import train_test_split\n",
    "train_input, test_input, train_target, test_target = train_test_split(perch_length, perch_weight, random_state=42)"
   ],
   "metadata": {
    "id": "5JBKsZV9oBf8"
   },
   "execution_count": 3,
   "outputs": []
  },
  {
   "cell_type": "code",
   "source": [
    "test_array = np.array([1,2,3,4])\n",
    "print(test_array.shape)"
   ],
   "metadata": {
    "colab": {
     "base_uri": "https://localhost:8080/"
    },
    "id": "8LmJ1kehqmh4",
    "outputId": "64de3125-e4a3-4d25-a05d-929832e0993e"
   },
   "execution_count": 4,
   "outputs": [
    {
     "output_type": "stream",
     "name": "stdout",
     "text": [
      "(4,)\n"
     ]
    }
   ]
  },
  {
   "cell_type": "code",
   "source": [
    "test_array = test_array.reshape(2,2)#배열 크기 지정\n",
    "print(test_array.shape)"
   ],
   "metadata": {
    "colab": {
     "base_uri": "https://localhost:8080/"
    },
    "id": "uzlXZnlxq8mX",
    "outputId": "671abd0c-e622-4ca2-b906-9d64811ddc97"
   },
   "execution_count": 5,
   "outputs": [
    {
     "output_type": "stream",
     "name": "stdout",
     "text": [
      "(2, 2)\n"
     ]
    }
   ]
  },
  {
   "cell_type": "code",
   "source": [
    "train_input = train_input.reshape(-1,1)\n",
    "test_input = test_input.reshape(-1,1)\n",
    "print(train_input.shape, test_input.shape)"
   ],
   "metadata": {
    "colab": {
     "base_uri": "https://localhost:8080/"
    },
    "id": "NApkHBrArjq3",
    "outputId": "e4ab16fb-db4e-40ed-e687-8e7e5def4ed6"
   },
   "execution_count": 6,
   "outputs": [
    {
     "output_type": "stream",
     "name": "stdout",
     "text": [
      "(42, 1) (14, 1)\n"
     ]
    }
   ]
  },
  {
   "cell_type": "code",
   "source": [
    "from sklearn.neighbors import KNeighborsRegressor\n",
    "knr = KNeighborsRegressor()\n",
    "#k-최근접 이웃 회귀 모델을 훈련 합니다.\n",
    "knr.fit(train_input, train_target)\n",
    "print(knr.score(test_input,test_target))"
   ],
   "metadata": {
    "colab": {
     "base_uri": "https://localhost:8080/"
    },
    "id": "asxNiqnG7e_X",
    "outputId": "4f3ee9a9-581b-44aa-d383-a2e140797bfe"
   },
   "execution_count": 7,
   "outputs": [
    {
     "output_type": "stream",
     "name": "stdout",
     "text": [
      "0.992809406101064\n"
     ]
    }
   ]
  },
  {
   "cell_type": "markdown",
   "source": [
    "회귀에서는 예측하는 값이 모두 임의의 수이기 때문에 정확한 숫자를 맞힌다는 것은 불가능하다.<br>\n",
    "회귀에서 평가하는 점수 :: **결정계수($R^2$)**<br>\n",
    "$R^2 = 1 - \\frac{(타깃 - 측)^2의 합}{(타깃 - 평균)^2의 합}$"
   ],
   "metadata": {
    "id": "qlNnk7mkuqqV"
   }
  },
  {
   "cell_type": "code",
   "source": [
    "from sklearn.metrics import mean_absolute_error\n",
    "\n",
    "test_prediction = knr.predict(test_input)\n",
    "\n",
    "mae = mean_absolute_error(test_target, test_prediction)\n",
    "print(mae)"
   ],
   "metadata": {
    "colab": {
     "base_uri": "https://localhost:8080/"
    },
    "id": "7yVvjevMuqJP",
    "outputId": "2e5deb10-e2bc-429a-a70e-a7daf766ddd5"
   },
   "execution_count": 8,
   "outputs": [
    {
     "output_type": "stream",
     "name": "stdout",
     "text": [
      "19.157142857142862\n"
     ]
    }
   ]
  },
  {
   "cell_type": "code",
   "source": [
    "print(knr.score(train_input, train_target))"
   ],
   "metadata": {
    "colab": {
     "base_uri": "https://localhost:8080/"
    },
    "id": "m3QbsLcN4B6S",
    "outputId": "e7bf1bca-7b6f-4ab2-b88e-94367df8f2c3"
   },
   "execution_count": 10,
   "outputs": [
    {
     "output_type": "stream",
     "name": "stdout",
     "text": [
      "0.9698823289099254\n"
     ]
    }
   ]
  },
  {
   "cell_type": "markdown",
   "source": [
    "훈련세트 점수 > 테스트새트 점수 : **과대 접합**<br>\n",
    "테스트세트 점수 > 훈련세트 점수 or 두점수 모두 낮을 때 : **과소 접합**"
   ],
   "metadata": {
    "id": "JRsMCLzg4yg3"
   }
  },
  {
   "cell_type": "code",
   "source": [
    "knr.n_neighbors = 3 #이웃의 갯수 = 3\n",
    "\n",
    "knr.fit(train_input, train_target)\n",
    "print(knr.score(train_input, train_target))"
   ],
   "metadata": {
    "colab": {
     "base_uri": "https://localhost:8080/"
    },
    "id": "w3swlsF_4x39",
    "outputId": "2aafe557-8de7-467d-d0ae-2077249ecb13"
   },
   "execution_count": 11,
   "outputs": [
    {
     "output_type": "stream",
     "name": "stdout",
     "text": [
      "0.9804899950518966\n"
     ]
    }
   ]
  },
  {
   "cell_type": "markdown",
   "source": [
    "k 값을 줄였더니 훈련 세트의 $R^2$의 값이 높아짐"
   ],
   "metadata": {
    "id": "i4aBNX4050V-"
   }
  },
  {
   "cell_type": "code",
   "source": [
    "print(knr.score(test_input, test_target))# 성공적으로 잘 된거 같음!!!\n",
    "#혼공 머신의 실력이 날로 늘어나는 군~"
   ],
   "metadata": {
    "colab": {
     "base_uri": "https://localhost:8080/"
    },
    "id": "vh_yp_hw59h_",
    "outputId": "2bb65d00-ea72-489c-e4c1-68f2f739e42a"
   },
   "execution_count": 13,
   "outputs": [
    {
     "output_type": "stream",
     "name": "stdout",
     "text": [
      "0.9746459963987609\n"
     ]
    }
   ]
  },
  {
   "cell_type": "markdown",
   "source": [
    "**회귀문제 다루기**:문제 해결"
   ],
   "metadata": {
    "id": "u7ObVJ8x6Obi"
   }
  },
  {
   "cell_type": "markdown",
   "source": "# 선형회귀",
   "metadata": {
    "id": "ilJD2j5m7anh"
   }
  },
  {
   "cell_type": "markdown",
   "source": [
    "홈공머신이 앞서 만든 모델을 사용해 예측을 한 값과 <br>\n",
    "저울로 잰 값이 너무 나도 차이가 남ㅠㅠ"
   ],
   "metadata": {
    "id": "wSHHxf6v9U77"
   }
  },
  {
   "cell_type": "code",
   "source": [
    "import numpy as np\n",
    "perch_length = np.array([8.4, 13.7, 15.0, 16.2, 17.4, 18.0, 18.7, 19.0, 19.6, 20.0, 21.0,\n",
    "       21.0, 21.0, 21.3, 22.0, 22.0, 22.0, 22.0, 22.0, 22.5, 22.5, 22.7,\n",
    "       23.0, 23.5, 24.0, 24.0, 24.6, 25.0, 25.6, 26.5, 27.3, 27.5, 27.5,\n",
    "       27.5, 28.0, 28.7, 30.0, 32.8, 34.5, 35.0, 36.5, 36.0, 37.0, 37.0,\n",
    "       39.0, 39.0, 39.0, 40.0, 40.0, 40.0, 40.0, 42.0, 43.0, 43.0, 43.5,\n",
    "       44.0])\n",
    "perch_weight = np.array([5.9, 32.0, 40.0, 51.5, 70.0, 100.0, 78.0, 80.0, 85.0, 85.0, 110.0,\n",
    "       115.0, 125.0, 130.0, 120.0, 120.0, 130.0, 135.0, 110.0, 130.0,\n",
    "       150.0, 145.0, 150.0, 170.0, 225.0, 145.0, 188.0, 180.0, 197.0,\n",
    "       218.0, 300.0, 260.0, 265.0, 250.0, 250.0, 300.0, 320.0, 514.0,\n",
    "       556.0, 840.0, 685.0, 700.0, 700.0, 690.0, 900.0, 650.0, 820.0,\n",
    "       850.0, 900.0, 1015.0, 820.0, 1100.0, 1000.0, 1100.0, 1000.0,\n",
    "       1000.0])"
   ],
   "metadata": {
    "id": "upiaaGGE7e-a"
   },
   "execution_count": 2,
   "outputs": []
  },
  {
   "cell_type": "code",
   "source": [
    "from sklearn.model_selection import train_test_split\n",
    "\n",
    "train_input, test_input, train_target, test_target = train_test_split(perch_length, perch_weight, random_state=42)\n",
    "train_input = train_input.reshape(-1,1)\n",
    "test_input = test_input.reshape(-1,1)"
   ],
   "metadata": {
    "id": "K-1BPvrM-RdX"
   },
   "execution_count": 3,
   "outputs": []
  },
  {
   "cell_type": "code",
   "source": [
    "from sklearn.neighbors import KNeighborsRegressor\n",
    "knr = KNeighborsRegressor(n_neighbors=3)\n",
    "knr.fit(train_input, train_target)\n",
    "print(knr.predict([[50]]))"
   ],
   "metadata": {
    "colab": {
     "base_uri": "https://localhost:8080/"
    },
    "id": "manj-gKz_GtJ",
    "outputId": "dcc2ad98-c661-4430-bd91-6d0a17a00b1f"
   },
   "execution_count": 4,
   "outputs": [
    {
     "output_type": "stream",
     "name": "stdout",
     "text": [
      "[1033.33333333]\n"
     ]
    }
   ]
  },
  {
   "cell_type": "code",
   "source": [
    "import matplotlib.pyplot as plt\n",
    "distances, indexes = knr.kneighbors([[50]])\n",
    "plt.scatter(train_input, train_target)\n",
    "plt.scatter(train_input[indexes],train_target[indexes], marker=\"D\")#이웃 샘플을 그림\n",
    "\n",
    "plt.scatter(50,1033,marker=\"^\")\n",
    "plt.xlabel(\"lenght\")\n",
    "plt.ylabel(\"weight\")\n",
    "plt.show()\n",
    "\n",
    "#산점도를 보면 그래프가 오른족 위로 올라가는 형태라, 길이가 커질수록 무게가 올라간다,\n",
    "#하지만 50cm 농어가 훈련세트의 범위에서 벗어나 엉뚱한 값으로 예측한다.\n",
    "print(np.mean(train_target[indexes])) #여전히 엉뚱한 값\n",
    "print(knr.predict([[100]]))#=>길이가 100cm 여도 가장 가까운 녀석들의 평균 값을 출력하니 같은 값이 나올것임"
   ],
   "metadata": {
    "colab": {
     "base_uri": "https://localhost:8080/",
     "height": 485
    },
    "id": "WdD1XedJAkDi",
    "outputId": "367e9c3d-d2ad-4b7c-ebd0-ff1c787e7a31"
   },
   "execution_count": 5,
   "outputs": [
    {
     "output_type": "display_data",
     "data": {
      "text/plain": [
       "<Figure size 640x480 with 1 Axes>"
      ],
      "image/png": "[encoded data removed]"
     },
     "metadata": {}
    },
    {
     "output_type": "stream",
     "name": "stdout",
     "text": [
      "1033.3333333333333\n",
      "[1033.33333333]\n"
     ]
    }
   ]
  },
  {
   "cell_type": "markdown",
   "source": [
    "결론 :<br>\n",
    "k-최근접 이웃 말고 다른 알고리즘을 찾아보자!!!!\n",
    "<br><br>\n",
    "**선형 회귀**"
   ],
   "metadata": {
    "id": "8lUt0aAwDAI1"
   }
  },
  {
   "cell_type": "code",
   "source": [
    "from sklearn.linear_model import LinearRegression\n",
    "lr = LinearRegression()\n",
    "\n",
    "lr.fit(train_input, train_target)\n",
    "print(lr.predict([[50]]))\n",
    "print(lr.coef_, lr.intercept_)"
   ],
   "metadata": {
    "colab": {
     "base_uri": "https://localhost:8080/"
    },
    "id": "yHmORd6FDiZB",
    "outputId": "e257bad8-b2c4-4514-c50c-584ec1e6985b"
   },
   "execution_count": 6,
   "outputs": [
    {
     "output_type": "stream",
     "name": "stdout",
     "text": [
      "[1241.83860323]\n",
      "[39.01714496] -709.0186449535477\n"
     ]
    }
   ]
  },
  {
   "cell_type": "code",
   "source": [
    "plt.scatter(train_input, train_target)\n",
    "plt.plot([15,50], [15*lr.coef_+lr.intercept_, 50*lr.coef_+lr.intercept_])#15에서 50까지 1차 방정식 그래프\n",
    "\n",
    "plt.scatter(50, 1241.8, marker='^')\n",
    "plt.xlabel('length')\n",
    "plt.ylabel('weight')\n",
    "plt.show()"
   ],
   "metadata": {
    "colab": {
     "base_uri": "https://localhost:8080/",
     "height": 449
    },
    "id": "EioqM9ppHumh",
    "outputId": "1c05d723-e014-40f0-cf46-9a2eeb2f512f"
   },
   "execution_count": 7,
   "outputs": [
    {
     "output_type": "display_data",
     "data": {
      "text/plain": [
       "<Figure size 640x480 with 1 Axes>"
      ],
      "image/png": "[encoded data removed]"
     },
     "metadata": {}
    }
   ]
  },
  {
   "cell_type": "code",
   "source": [
    "print(lr.score(train_input, train_target))\n",
    "print(lr.score(test_input, test_target))\n",
    "#훈련세트 > 테스트세트 : 과대접합"
   ],
   "metadata": {
    "colab": {
     "base_uri": "https://localhost:8080/"
    },
    "id": "Xr2nBVfJtJqa",
    "outputId": "7f290aad-c411-43e9-8177-ae406c990010"
   },
   "execution_count": 10,
   "outputs": [
    {
     "output_type": "stream",
     "name": "stdout",
     "text": [
      "0.939846333997604\n",
      "0.8247503123313558\n"
     ]
    }
   ]
  },
  {
   "cell_type": "markdown",
   "source": [
    "**다항회귀**,그래프가 살짝 곡선이네?\n",
    "<BR> 살짝 이차함수 그래프다."
   ],
   "metadata": {
    "id": "r0---xcFt0nU"
   }
  },
  {
   "cell_type": "code",
   "source": [
    "train_poly = np.column_stack((train_input**2, train_input))\n",
    "test_poly = np.column_stack((test_input**2, test_input))\n",
    "print(train_input.shape, test_input.shape)"
   ],
   "metadata": {
    "colab": {
     "base_uri": "https://localhost:8080/"
    },
    "id": "9U0aSTvItxQd",
    "outputId": "0b8a6907-1842-4bce-bc53-a5e8e0d66598"
   },
   "execution_count": 11,
   "outputs": [
    {
     "output_type": "stream",
     "name": "stdout",
     "text": [
      "(42, 1) (14, 1)\n"
     ]
    }
   ]
  },
  {
   "cell_type": "code",
   "source": [
    "lr = LinearRegression()\n",
    "lr.fit(train_poly, train_target)\n",
    "print(lr.predict([[50**2,50]]))"
   ],
   "metadata": {
    "colab": {
     "base_uri": "https://localhost:8080/"
    },
    "id": "NbC93iBHvPOa",
    "outputId": "fc7cbca8-8844-4479-ecf1-f73c3b538ac2"
   },
   "execution_count": 12,
   "outputs": [
    {
     "output_type": "stream",
     "name": "stdout",
     "text": [
      "[1573.98423528]\n"
     ]
    }
   ]
  },
  {
   "cell_type": "code",
   "source": [
    "print(lr.coef_, lr.intercept_)"
   ],
   "metadata": {
    "colab": {
     "base_uri": "https://localhost:8080/"
    },
    "id": "6QPQs-IzvsPe",
    "outputId": "13c53324-4e47-4e56-d021-ef9cb59c4e58"
   },
   "execution_count": 13,
   "outputs": [
    {
     "output_type": "stream",
     "name": "stdout",
     "text": [
      "[  1.01433211 -21.55792498] 116.0502107827827\n"
     ]
    }
   ]
  },
  {
   "cell_type": "markdown",
   "source": [
    "$무게 = 1.01 \\times 길이^2 -21.6 \\times 길이 + 116.05$\n",
    ": 이 처럼 학습"
   ],
   "metadata": {
    "id": "ZF3v3yJ6v24A"
   }
  },
  {
   "cell_type": "code",
   "source": [
    "point = np.arange(15,50)\n",
    "plt.scatter(train_input, train_target)\n",
    "plt.plot(point, 1.01*point**2 - 21.6 * point + 116.05)\n",
    "\n",
    "plt.scatter(50, 1574, marker='^')\n",
    "plt.xlabel('leghth')\n",
    "plt.ylabel('weight')\n",
    "plt.show()"
   ],
   "metadata": {
    "colab": {
     "base_uri": "https://localhost:8080/",
     "height": 449
    },
    "id": "uHjpn0-O9F-r",
    "outputId": "e3036794-ad4f-45d8-84b0-6bd618c86c69"
   },
   "execution_count": 14,
   "outputs": [
    {
     "output_type": "display_data",
     "data": {
      "text/plain": [
       "<Figure size 640x480 with 1 Axes>"
      ],
      "image/png": "[encoded data removed]"
     },
     "metadata": {}
    }
   ]
  },
  {
   "cell_type": "code",
   "source": [
    "print(lr.score(train_poly, train_target))\n",
    "print(lr.score(test_poly, test_target))"
   ],
   "metadata": {
    "colab": {
     "base_uri": "https://localhost:8080/"
    },
    "id": "eOKUYpDP-a6u",
    "outputId": "fb75d8eb-1237-4a3c-a50e-b9c15954dc47"
   },
   "execution_count": 15,
   "outputs": [
    {
     "output_type": "stream",
     "name": "stdout",
     "text": [
      "0.9706807451768623\n",
      "0.9775935108325122\n"
     ]
    }
   ]
  },
  {
   "cell_type": "markdown",
   "source": [
    ": 살짝 과소접합이지만 좋은 경과!!, 홍홍 선배한테 도움을 요청~"
   ],
   "metadata": {
    "id": "HT4uGlxk-7Dd"
   }
  },
  {
   "metadata": {},
   "cell_type": "markdown",
   "source": [
    "# 특성 공학과 규제\n",
    ":두께 데이터도 사용해 더 정확한 결과를 구할 것임!!<br>\n",
    "scikit-learn의 polynomiaFeatures로 구현"
   ]
  },
  {
   "metadata": {},
   "cell_type": "markdown",
   "source": [
    "**다중회귀** : 여러개의 특성을 사용한 선형회귀<br>\n",
    "**특성공학** : 기존의 특성을 사용해 새로운 특성을 뽑아내느 작업 ,i.e., '$농어길이 \\times 농어높이 => 새로운 특성$'"
   ]
  },
  {
   "metadata": {
    "ExecuteTime": {
     "end_time": "2025-03-16T06:30:27.977624Z",
     "start_time": "2025-03-16T06:30:26.463844Z"
    }
   },
   "cell_type": "code",
   "source": [
    "import pandas as pd\n",
    "df = pd.read_csv('http://bit.ly/perch_csv')\n",
    "perch_full = df.to_numpy()\n",
    "print(perch_full)"
   ],
   "outputs": [
    {
     "name": "stdout",
     "output_type": "stream",
     "text": [
      "[[ 8.4   2.11  1.41]\n",
      " [13.7   3.53  2.  ]\n",
      " [15.    3.82  2.43]\n",
      " [16.2   4.59  2.63]\n",
      " [17.4   4.59  2.94]\n",
      " [18.    5.22  3.32]\n",
      " [18.7   5.2   3.12]\n",
      " [19.    5.64  3.05]\n",
      " [19.6   5.14  3.04]\n",
      " [20.    5.08  2.77]\n",
      " [21.    5.69  3.56]\n",
      " [21.    5.92  3.31]\n",
      " [21.    5.69  3.67]\n",
      " [21.3   6.38  3.53]\n",
      " [22.    6.11  3.41]\n",
      " [22.    5.64  3.52]\n",
      " [22.    6.11  3.52]\n",
      " [22.    5.88  3.52]\n",
      " [22.    5.52  4.  ]\n",
      " [22.5   5.86  3.62]\n",
      " [22.5   6.79  3.62]\n",
      " [22.7   5.95  3.63]\n",
      " [23.    5.22  3.63]\n",
      " [23.5   6.28  3.72]\n",
      " [24.    7.29  3.72]\n",
      " [24.    6.38  3.82]\n",
      " [24.6   6.73  4.17]\n",
      " [25.    6.44  3.68]\n",
      " [25.6   6.56  4.24]\n",
      " [26.5   7.17  4.14]\n",
      " [27.3   8.32  5.14]\n",
      " [27.5   7.17  4.34]\n",
      " [27.5   7.05  4.34]\n",
      " [27.5   7.28  4.57]\n",
      " [28.    7.82  4.2 ]\n",
      " [28.7   7.59  4.64]\n",
      " [30.    7.62  4.77]\n",
      " [32.8  10.03  6.02]\n",
      " [34.5  10.26  6.39]\n",
      " [35.   11.49  7.8 ]\n",
      " [36.5  10.88  6.86]\n",
      " [36.   10.61  6.74]\n",
      " [37.   10.84  6.26]\n",
      " [37.   10.57  6.37]\n",
      " [39.   11.14  7.49]\n",
      " [39.   11.14  6.  ]\n",
      " [39.   12.43  7.35]\n",
      " [40.   11.93  7.11]\n",
      " [40.   11.73  7.22]\n",
      " [40.   12.38  7.46]\n",
      " [40.   11.14  6.63]\n",
      " [42.   12.8   6.87]\n",
      " [43.   11.93  7.28]\n",
      " [43.   12.51  7.42]\n",
      " [43.5  12.6   8.14]\n",
      " [44.   12.49  7.6 ]]\n"
     ]
    }
   ],
   "execution_count": 1
  },
  {
   "metadata": {
    "ExecuteTime": {
     "end_time": "2025-03-16T06:32:11.906991Z",
     "start_time": "2025-03-16T06:32:11.900126Z"
    }
   },
   "cell_type": "code",
   "source": [
    "import numpy as np\n",
    "perch_weight = np.array([5.9, 32.0, 40.0, 51.5, 70.0, 100.0, 78.0, 80.0, 85.0, 85.0, 110.0,\n",
    "                         115.0, 125.0, 130.0, 120.0, 120.0, 130.0, 135.0, 110.0, 130.0,\n",
    "                         150.0, 145.0, 150.0, 170.0, 225.0, 145.0, 188.0, 180.0, 197.0,\n",
    "                         218.0, 300.0, 260.0, 265.0, 250.0, 250.0, 300.0, 320.0, 514.0,\n",
    "                         556.0, 840.0, 685.0, 700.0, 700.0, 690.0, 900.0, 650.0, 820.0,\n",
    "                         850.0, 900.0, 1015.0, 820.0, 1100.0, 1000.0, 1100.0, 1000.0,\n",
    "                         1000.0])"
   ],
   "outputs": [],
   "execution_count": 2
  },
  {
   "metadata": {
    "ExecuteTime": {
     "end_time": "2025-03-16T06:33:01.664227Z",
     "start_time": "2025-03-16T06:33:00.784418Z"
    }
   },
   "cell_type": "code",
   "source": [
    "from sklearn.model_selection import train_test_split\n",
    "train_input, test_input, train_target, test_target = train_test_split(perch_full, perch_weight, random_state=42)"
   ],
   "outputs": [],
   "execution_count": 3
  },
  {
   "metadata": {
    "ExecuteTime": {
     "end_time": "2025-03-16T11:49:41.112860Z",
     "start_time": "2025-03-16T11:49:41.103832Z"
    }
   },
   "cell_type": "code",
   "source": [
    "from sklearn.preprocessing import PolynomialFeatures\n",
    "poly = PolynomialFeatures()\n",
    "poly.fit([[2,3]])\n",
    "print(poly.transform([[2,3]]))#이거 이해가 안됨;;"
   ],
   "outputs": [
    {
     "name": "stdout",
     "output_type": "stream",
     "text": [
      "[[1. 2. 3. 4. 6. 9.]]\n"
     ]
    }
   ],
   "execution_count": 5
  },
  {
   "metadata": {
    "ExecuteTime": {
     "end_time": "2025-03-16T12:05:23.707277Z",
     "start_time": "2025-03-16T12:05:23.687302Z"
    }
   },
   "cell_type": "code",
   "source": [
    "poly = PolynomialFeatures(include_bias=False)\n",
    "poly.fit([[2,3]])\n",
    "print(poly.transform([[2,3]]))"
   ],
   "outputs": [
    {
     "name": "stdout",
     "output_type": "stream",
     "text": [
      "[[2. 3. 4. 6. 9.]]\n"
     ]
    }
   ],
   "execution_count": 6
  },
  {
   "metadata": {
    "ExecuteTime": {
     "end_time": "2025-03-16T23:12:25.379850Z",
     "start_time": "2025-03-16T23:12:25.362310Z"
    }
   },
   "cell_type": "code",
   "source": [
    "poly = PolynomialFeatures(include_bias=False)\n",
    "poly.fit(train_input)\n",
    "train_poly = poly.transform(train_input)\n",
    "print(train_poly.shape)"
   ],
   "outputs": [
    {
     "name": "stdout",
     "output_type": "stream",
     "text": [
      "(42, 9)\n"
     ]
    }
   ],
   "execution_count": 8
  },
  {
   "metadata": {
    "ExecuteTime": {
     "end_time": "2025-03-16T23:14:06.227382Z",
     "start_time": "2025-03-16T23:14:06.202448Z"
    }
   },
   "cell_type": "code",
   "source": [
    "poly.get_feature_names_out()#책이랑 문법이 다른거 같음\n",
    "#위의 9개의 특성이 어ㅓㄸㅎ게 만들어 졌는지 확인 할 수 있음"
   ],
   "outputs": [
    {
     "data": {
      "text/plain": [
       "array(['x0', 'x1', 'x2', 'x0^2', 'x0 x1', 'x0 x2', 'x1^2', 'x1 x2',\n",
       "       'x2^2'], dtype=object)"
      ]
     },
     "execution_count": 10,
     "metadata": {},
     "output_type": "execute_result"
    }
   ],
   "execution_count": 10
  },
  {
   "metadata": {
    "ExecuteTime": {
     "end_time": "2025-03-16T23:15:09.759152Z",
     "start_time": "2025-03-16T23:15:09.736467Z"
    }
   },
   "cell_type": "code",
   "source": "test_poly = poly.transform(test_input)",
   "outputs": [],
   "execution_count": 11
  },
  {
   "metadata": {
    "ExecuteTime": {
     "end_time": "2025-03-16T23:17:19.537474Z",
     "start_time": "2025-03-16T23:17:19.521272Z"
    }
   },
   "cell_type": "code",
   "source": [
    "from sklearn.linear_model import LinearRegression\n",
    "lr = LinearRegression()\n",
    "lr.fit(train_poly, train_target)\n",
    "print(lr.score(train_poly, train_target))\n",
    "print(lr.score(test_poly, test_target))\n",
    "#과소접합은 해결, 특성을 더 많이 추가 하면 어떨까?"
   ],
   "outputs": [
    {
     "name": "stdout",
     "output_type": "stream",
     "text": [
      "0.9903183436982125\n",
      "0.9714559911594159\n"
     ]
    }
   ],
   "execution_count": 14
  },
  {
   "metadata": {
    "ExecuteTime": {
     "end_time": "2025-03-16T23:20:34.931701Z",
     "start_time": "2025-03-16T23:20:34.921184Z"
    }
   },
   "cell_type": "code",
   "source": [
    "poly = PolynomialFeatures(degree=5 ,include_bias=False)\n",
    "poly.fit(train_input)\n",
    "train_poly = poly.transform(train_input)\n",
    "test_poly = poly.transform(test_input)\n",
    "print(train_poly.shape)\n",
    "#특성이 55개로 많아짐"
   ],
   "outputs": [
    {
     "name": "stdout",
     "output_type": "stream",
     "text": [
      "(42, 55)\n"
     ]
    }
   ],
   "execution_count": 15
  },
  {
   "metadata": {
    "ExecuteTime": {
     "end_time": "2025-03-16T23:22:22.481349Z",
     "start_time": "2025-03-16T23:22:22.469185Z"
    }
   },
   "cell_type": "code",
   "source": [
    "lr.fit(train_poly, train_target)\n",
    "print(lr.score(train_poly, train_target))\n",
    "print(lr.score(test_poly, test_target))\n",
    "#훈련 세트는 완전 좋은 점수를 얻었지만\n",
    "#테스트 세트는 처참한 점수를 갖게 되었다.\n",
    "#특성갯수가 늘어 남에 따라 훈련세트는 과대접합되고 테스트세트는 형편없는 점수를 가지세 된다."
   ],
   "outputs": [
    {
     "name": "stdout",
     "output_type": "stream",
     "text": [
      "0.999999999999769\n",
      "-144.40490595353674\n"
     ]
    }
   ],
   "execution_count": 17
  },
  {
   "metadata": {},
   "cell_type": "markdown",
   "source": [
    "**규제** : 머신러닝모델이 너무 과도하게 학습되지 못하게 하는거<br>\n",
    "scikit_learn : StandardScaler"
   ]
  },
  {
   "metadata": {
    "ExecuteTime": {
     "end_time": "2025-03-16T23:28:37.388178Z",
     "start_time": "2025-03-16T23:28:37.374367Z"
    }
   },
   "cell_type": "code",
   "source": [
    "from sklearn.preprocessing import StandardScaler\n",
    "ss = StandardScaler()\n",
    "ss.fit(train_poly)\n",
    "train_scaled = ss.transform(train_poly)\n",
    "test_scaled = ss.transform(test_poly)"
   ],
   "outputs": [],
   "execution_count": 18
  },
  {
   "metadata": {},
   "cell_type": "markdown",
   "source": [
    ": 션형 회귀 모델에 규제를 추가한 모델을 **릿지**와 **라쏘**라고 부른다.\n",
    "* 릿지 : 계수를 제곱한 값을 기준으로 규제\n",
    "* 라쏘 : 계수의 절댓값을 기준으로 규제<br>\n",
    "=> 둘 다 계수의 값을 줄이는 것이지만, 라쏘는 값이 0이 될 수도 있음"
   ]
  },
  {
   "metadata": {
    "ExecuteTime": {
     "end_time": "2025-03-17T00:38:53.838877Z",
     "start_time": "2025-03-17T00:38:53.821634Z"
    }
   },
   "cell_type": "code",
   "source": [
    "#릿지 회귀\n",
    "from sklearn.linear_model import Ridge\n",
    "ridge = Ridge()\n",
    "ridge.fit(train_scaled, train_target)\n",
    "print(ridge.score(train_scaled, train_target))\n",
    "print(ridge.score(test_scaled, test_target))\n",
    "#훈련세트는 점수가 쫌 낮아지고, 테스트는 정상으로 돌아왓다"
   ],
   "outputs": [
    {
     "name": "stdout",
     "output_type": "stream",
     "text": [
      "0.9896101671037343\n",
      "0.9790693977615388\n"
     ]
    }
   ],
   "execution_count": 20
  },
  {
   "metadata": {
    "ExecuteTime": {
     "end_time": "2025-03-17T01:52:48.290585Z",
     "start_time": "2025-03-17T01:52:47.087916Z"
    }
   },
   "cell_type": "code",
   "source": [
    "import matplotlib.pyplot as plt\n",
    "train_score = []\n",
    "test_score = []\n",
    "\n",
    "alpha_list = [0.001,0.01,0.1,1,10,100]\n",
    "for alpha in alpha_list:\n",
    "    ridge = Ridge(alpha=alpha)\n",
    "    ridge.fit(train_scaled, train_target)\n",
    "    train_score.append(ridge.score(train_scaled, train_target))\n",
    "    test_score.append(ridge.score(test_scaled, test_target))"
   ],
   "outputs": [],
   "execution_count": 21
  },
  {
   "metadata": {
    "ExecuteTime": {
     "end_time": "2025-03-17T02:56:15.659168Z",
     "start_time": "2025-03-17T02:56:15.569189Z"
    }
   },
   "cell_type": "code",
   "source": [
    "plt.plot(np.log10(alpha_list), train_score)# 퍼런색\n",
    "plt.plot(np.log10(alpha_list), test_score) #주황색\n",
    "plt.xlabel('alpha')\n",
    "plt.ylabel('R^2')\n",
    "plt.show()\n",
    "#적절한 alpha값인 두 그래프가 가장 가깝고, 테스트세트 점수가 가장 높은 -1\n",
    "#즉, 10^-1 = 0.1 로 최종 모델을 훈련"
   ],
   "outputs": [
    {
     "data": {
      "text/plain": [
       "<Figure size 640x480 with 1 Axes>"
      ],
      "image/png": "[encoded data removed]"
     },
     "metadata": {},
     "output_type": "display_data"
    }
   ],
   "execution_count": 23
  },
  {
   "metadata": {
    "ExecuteTime": {
     "end_time": "2025-03-17T03:23:07.054246Z",
     "start_time": "2025-03-17T03:23:06.918527Z"
    }
   },
   "cell_type": "code",
   "source": [
    "ridge = Ridge(alpha = 0.1)\n",
    "ridge.fit(train_scaled, train_target)\n",
    "print(ridge.score(train_scaled, train_target))\n",
    "print(ridge.score(test_scaled, test_target))\n",
    "#균형을 맞추고 있음"
   ],
   "outputs": [
    {
     "name": "stdout",
     "output_type": "stream",
     "text": [
      "0.9903815817570366\n",
      "0.9827976465386955\n"
     ]
    }
   ],
   "execution_count": 24
  },
  {
   "metadata": {},
   "cell_type": "markdown",
   "source": "**라쏘회귀**"
  },
  {
   "metadata": {
    "ExecuteTime": {
     "end_time": "2025-03-17T04:18:26.007858Z",
     "start_time": "2025-03-17T04:18:25.992404Z"
    }
   },
   "cell_type": "code",
   "source": [
    "from sklearn.linear_model import Lasso\n",
    "lasso = Lasso()\n",
    "lasso.fit(train_scaled, train_target)\n",
    "print(lasso.score(train_scaled, train_target))\n",
    "print(lasso.score(test_scaled, test_target))"
   ],
   "outputs": [
    {
     "name": "stdout",
     "output_type": "stream",
     "text": [
      "0.989789897208096\n",
      "0.9800593698421884\n"
     ]
    }
   ],
   "execution_count": 26
  },
  {
   "metadata": {
    "ExecuteTime": {
     "end_time": "2025-03-17T04:21:54.588714Z",
     "start_time": "2025-03-17T04:21:54.354171Z"
    }
   },
   "cell_type": "code",
   "source": [
    "train_score = []\n",
    "test_score = []\n",
    "\n",
    "alpha_list = [0.001,0.01,0.1,1,10,100]\n",
    "for alpha in alpha_list:\n",
    "    lasso = Lasso(alpha=alpha, max_iter=10000)\n",
    "    lasso.fit(train_scaled, train_target)\n",
    "    train_score.append(lasso.score(train_scaled, train_target))\n",
    "    test_score.append(lasso.score(test_scaled, test_target))\n",
    "    #밑에 에러는 반복이 적어서 나는거임"
   ],
   "outputs": [
    {
     "name": "stderr",
     "output_type": "stream",
     "text": [
      "/Users/bagso-eun/miniconda3/envs/hongong/lib/python3.12/site-packages/sklearn/linear_model/_coordinate_descent.py:695: ConvergenceWarning: Objective did not converge. You might want to increase the number of iterations, check the scale of the features or consider increasing regularisation. Duality gap: 1.878e+04, tolerance: 5.183e+02\n",
      "  model = cd_fast.enet_coordinate_descent(\n",
      "/Users/bagso-eun/miniconda3/envs/hongong/lib/python3.12/site-packages/sklearn/linear_model/_coordinate_descent.py:695: ConvergenceWarning: Objective did not converge. You might want to increase the number of iterations, check the scale of the features or consider increasing regularisation. Duality gap: 1.297e+04, tolerance: 5.183e+02\n",
      "  model = cd_fast.enet_coordinate_descent(\n"
     ]
    }
   ],
   "execution_count": 27
  },
  {
   "metadata": {
    "ExecuteTime": {
     "end_time": "2025-03-17T04:24:19.873836Z",
     "start_time": "2025-03-17T04:24:19.657697Z"
    }
   },
   "cell_type": "code",
   "source": [
    "plt.plot(np.log10(alpha_list), train_score)# 파랑\n",
    "plt.plot(np.log10(alpha_list), test_score)#주황\n",
    "plt.xlabel('alpha')\n",
    "plt.ylabel('R^2')\n",
    "plt.show() #최적의 값은 1 즉 10^1 =10"
   ],
   "outputs": [
    {
     "data": {
      "text/plain": [
       "<Figure size 640x480 with 1 Axes>"
      ],
      "image/png": "[encoded data removed]"
     },
     "metadata": {},
     "output_type": "display_data"
    }
   ],
   "execution_count": 28
  },
  {
   "metadata": {
    "ExecuteTime": {
     "end_time": "2025-03-17T04:27:10.913461Z",
     "start_time": "2025-03-17T04:27:10.858616Z"
    }
   },
   "cell_type": "code",
   "source": [
    "lasso = Lasso(alpha=10)\n",
    "lasso.fit(train_scaled, train_target)\n",
    "print(lasso.score(train_scaled, train_target))\n",
    "print(lasso.score(test_scaled, test_target))"
   ],
   "outputs": [
    {
     "name": "stdout",
     "output_type": "stream",
     "text": [
      "0.9888067471131867\n",
      "0.9824470598706695\n"
     ]
    }
   ],
   "execution_count": 29
  },
  {
   "metadata": {
    "ExecuteTime": {
     "end_time": "2025-03-17T04:28:45.209964Z",
     "start_time": "2025-03-17T04:28:45.188576Z"
    }
   },
   "cell_type": "code",
   "source": "print(np.sum(lasso.coef_ == 0))",
   "outputs": [
    {
     "name": "stdout",
     "output_type": "stream",
     "text": [
      "40\n"
     ]
    }
   ],
   "execution_count": 30
  }
 ]
}
