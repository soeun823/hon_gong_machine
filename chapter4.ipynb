{
 "cells": [
  {
   "metadata": {},
   "cell_type": "markdown",
   "source": "**문제** :: 다양한 분류 알고리즘으로 럭키백의 확률을 계산~~",
   "id": "97f57bb506d85e08"
  },
  {
   "metadata": {},
   "cell_type": "markdown",
   "source": "# 로지스틱 회귀",
   "id": "71913c1db43c36fe"
  },
  {
   "metadata": {
    "collapsed": true,
    "ExecuteTime": {
     "end_time": "2025-03-18T07:09:00.140506Z",
     "start_time": "2025-03-18T07:08:59.152515Z"
    }
   },
   "cell_type": "code",
   "source": [
    "import pandas as pd\n",
    "\n",
    "fish = pd.read_csv('http://bit.ly/fish_csv')\n",
    "fish.head()"
   ],
   "id": "initial_id",
   "outputs": [
    {
     "data": {
      "text/plain": [
       "  Species  Weight  Length  Diagonal   Height   Width\n",
       "0   Bream   242.0    25.4      30.0  11.5200  4.0200\n",
       "1   Bream   290.0    26.3      31.2  12.4800  4.3056\n",
       "2   Bream   340.0    26.5      31.1  12.3778  4.6961\n",
       "3   Bream   363.0    29.0      33.5  12.7300  4.4555\n",
       "4   Bream   430.0    29.0      34.0  12.4440  5.1340"
      ],
      "text/html": [
       "<div>\n",
       "<style scoped>\n",
       "    .dataframe tbody tr th:only-of-type {\n",
       "        vertical-align: middle;\n",
       "    }\n",
       "\n",
       "    .dataframe tbody tr th {\n",
       "        vertical-align: top;\n",
       "    }\n",
       "\n",
       "    .dataframe thead th {\n",
       "        text-align: right;\n",
       "    }\n",
       "</style>\n",
       "<table border=\"1\" class=\"dataframe\">\n",
       "  <thead>\n",
       "    <tr style=\"text-align: right;\">\n",
       "      <th></th>\n",
       "      <th>Species</th>\n",
       "      <th>Weight</th>\n",
       "      <th>Length</th>\n",
       "      <th>Diagonal</th>\n",
       "      <th>Height</th>\n",
       "      <th>Width</th>\n",
       "    </tr>\n",
       "  </thead>\n",
       "  <tbody>\n",
       "    <tr>\n",
       "      <th>0</th>\n",
       "      <td>Bream</td>\n",
       "      <td>242.0</td>\n",
       "      <td>25.4</td>\n",
       "      <td>30.0</td>\n",
       "      <td>11.5200</td>\n",
       "      <td>4.0200</td>\n",
       "    </tr>\n",
       "    <tr>\n",
       "      <th>1</th>\n",
       "      <td>Bream</td>\n",
       "      <td>290.0</td>\n",
       "      <td>26.3</td>\n",
       "      <td>31.2</td>\n",
       "      <td>12.4800</td>\n",
       "      <td>4.3056</td>\n",
       "    </tr>\n",
       "    <tr>\n",
       "      <th>2</th>\n",
       "      <td>Bream</td>\n",
       "      <td>340.0</td>\n",
       "      <td>26.5</td>\n",
       "      <td>31.1</td>\n",
       "      <td>12.3778</td>\n",
       "      <td>4.6961</td>\n",
       "    </tr>\n",
       "    <tr>\n",
       "      <th>3</th>\n",
       "      <td>Bream</td>\n",
       "      <td>363.0</td>\n",
       "      <td>29.0</td>\n",
       "      <td>33.5</td>\n",
       "      <td>12.7300</td>\n",
       "      <td>4.4555</td>\n",
       "    </tr>\n",
       "    <tr>\n",
       "      <th>4</th>\n",
       "      <td>Bream</td>\n",
       "      <td>430.0</td>\n",
       "      <td>29.0</td>\n",
       "      <td>34.0</td>\n",
       "      <td>12.4440</td>\n",
       "      <td>5.1340</td>\n",
       "    </tr>\n",
       "  </tbody>\n",
       "</table>\n",
       "</div>"
      ]
     },
     "execution_count": 1,
     "metadata": {},
     "output_type": "execute_result"
    }
   ],
   "execution_count": 1
  },
  {
   "metadata": {
    "ExecuteTime": {
     "end_time": "2025-03-18T07:09:00.161810Z",
     "start_time": "2025-03-18T07:09:00.154629Z"
    }
   },
   "cell_type": "code",
   "source": "print(pd.unique(fish['Species']))",
   "id": "d81e7fd88a97531",
   "outputs": [
    {
     "name": "stdout",
     "output_type": "stream",
     "text": [
      "['Bream' 'Roach' 'Whitefish' 'Parkki' 'Perch' 'Pike' 'Smelt']\n"
     ]
    }
   ],
   "execution_count": 2
  },
  {
   "metadata": {
    "ExecuteTime": {
     "end_time": "2025-03-18T07:09:00.175413Z",
     "start_time": "2025-03-18T07:09:00.170130Z"
    }
   },
   "cell_type": "code",
   "source": [
    "fish_input = fish[['Weight', 'Length', 'Diagonal', 'Height',\"Width\"]].to_numpy()\n",
    "print(fish_input[:5])"
   ],
   "id": "4f4af79c49c0d4ea",
   "outputs": [
    {
     "name": "stdout",
     "output_type": "stream",
     "text": [
      "[[242.      25.4     30.      11.52     4.02  ]\n",
      " [290.      26.3     31.2     12.48     4.3056]\n",
      " [340.      26.5     31.1     12.3778   4.6961]\n",
      " [363.      29.      33.5     12.73     4.4555]\n",
      " [430.      29.      34.      12.444    5.134 ]]\n"
     ]
    }
   ],
   "execution_count": 3
  },
  {
   "metadata": {
    "ExecuteTime": {
     "end_time": "2025-03-18T07:09:00.180898Z",
     "start_time": "2025-03-18T07:09:00.178966Z"
    }
   },
   "cell_type": "code",
   "source": "fish_target = fish['Species'].to_numpy()",
   "id": "e85818d56b4bda31",
   "outputs": [],
   "execution_count": 4
  },
  {
   "metadata": {
    "ExecuteTime": {
     "end_time": "2025-03-18T07:09:01.011106Z",
     "start_time": "2025-03-18T07:09:00.184008Z"
    }
   },
   "cell_type": "code",
   "source": [
    "from sklearn.model_selection import train_test_split\n",
    "train_input, test_input, train_target, test_target = train_test_split( fish_input, fish_target,random_state=42)"
   ],
   "id": "57bd27e36010f2ed",
   "outputs": [],
   "execution_count": 5
  },
  {
   "metadata": {
    "ExecuteTime": {
     "end_time": "2025-03-18T07:09:01.018641Z",
     "start_time": "2025-03-18T07:09:01.015243Z"
    }
   },
   "cell_type": "code",
   "source": [
    "from sklearn.preprocessing import StandardScaler\n",
    "ss = StandardScaler()\n",
    "ss.fit(train_input)\n",
    "train_scaled = ss.transform(train_input)\n",
    "test_scaled = ss.transform(test_input)"
   ],
   "id": "11638c956f7f1f32",
   "outputs": [],
   "execution_count": 6
  },
  {
   "metadata": {},
   "cell_type": "markdown",
   "source": "K-최근접 이웃 분류기의 확률 예측",
   "id": "66772960abdcf0e3"
  },
  {
   "metadata": {
    "ExecuteTime": {
     "end_time": "2025-03-18T07:09:01.175462Z",
     "start_time": "2025-03-18T07:09:01.021708Z"
    }
   },
   "cell_type": "code",
   "source": [
    "from sklearn.neighbors import KNeighborsClassifier\n",
    "kn = KNeighborsClassifier(n_neighbors=3)\n",
    "kn.fit(train_scaled, train_target)\n",
    "print(kn.score(train_scaled, train_target))\n",
    "print(kn.score(test_scaled, test_target))"
   ],
   "id": "3f40ee5edd5a1b68",
   "outputs": [
    {
     "name": "stdout",
     "output_type": "stream",
     "text": [
      "0.8907563025210085\n",
      "0.85\n"
     ]
    }
   ],
   "execution_count": 7
  },
  {
   "metadata": {},
   "cell_type": "markdown",
   "source": "**다중 분류** : 타깃데이터에 2개 이상의 클래스가 포함된 문제",
   "id": "271f29b0023827a5"
  },
  {
   "metadata": {
    "ExecuteTime": {
     "end_time": "2025-03-18T07:09:01.181916Z",
     "start_time": "2025-03-18T07:09:01.178436Z"
    }
   },
   "cell_type": "code",
   "source": [
    "import numpy as np\n",
    "proba = kn.predict_proba(test_scaled[:5])\n",
    "print(np.round(proba, decimals=4))"
   ],
   "id": "ee92337fdfba7e34",
   "outputs": [
    {
     "name": "stdout",
     "output_type": "stream",
     "text": [
      "[[0.     0.     1.     0.     0.     0.     0.    ]\n",
      " [0.     0.     0.     0.     0.     1.     0.    ]\n",
      " [0.     0.     0.     1.     0.     0.     0.    ]\n",
      " [0.     0.     0.6667 0.     0.3333 0.     0.    ]\n",
      " [0.     0.     0.6667 0.     0.3333 0.     0.    ]]\n"
     ]
    }
   ],
   "execution_count": 8
  },
  {
   "metadata": {
    "ExecuteTime": {
     "end_time": "2025-03-18T07:09:01.187529Z",
     "start_time": "2025-03-18T07:09:01.184564Z"
    }
   },
   "cell_type": "code",
   "source": [
    "distances, indexes = kn.kneighbors(test_scaled[3:4])\n",
    "print(train_target[indexes])"
   ],
   "id": "8c0c70f3db951c5c",
   "outputs": [
    {
     "name": "stdout",
     "output_type": "stream",
     "text": [
      "[['Roach' 'Perch' 'Perch']]\n"
     ]
    }
   ],
   "execution_count": 9
  },
  {
   "metadata": {},
   "cell_type": "markdown",
   "source": [
    "**로지스틱 회귀** : 회귀라고 불리지만 분류모델\n",
    "<br><br>\n",
    "&nbsp; $z = a \\times (Weight) + b \\times (Lenght) + c \\times (Diagonal) + d \\times (Height) + e \\times (Width) + f$\n",
    "<br><br>\n",
    "z가 아주 큰 음수일떄 0, 아주 큰 양수 일때 1이 되도록 바꿀려면, **시그모이드 함수(또는 로지스틱 함수)**"
   ],
   "id": "ce9ac59ddc96737c"
  },
  {
   "metadata": {},
   "cell_type": "markdown",
   "source": "**시그노이드 함수** : 결과 값을 확률값으로 변환하는데 사용\n",
   "id": "c2f043e9f9df3ed"
  },
  {
   "metadata": {
    "ExecuteTime": {
     "end_time": "2025-03-18T07:09:01.757100Z",
     "start_time": "2025-03-18T07:09:01.190211Z"
    }
   },
   "cell_type": "code",
   "source": [
    "import numpy as np\n",
    "import matplotlib.pyplot as plt\n",
    "z = np.arange(-5, 5, 0.1)\n",
    "phi = 1/(1+np.exp(-z))\n",
    "plt.plot(z, phi)\n",
    "plt.xlabel('z')\n",
    "plt.ylabel('phi')\n",
    "plt.show()#시그노이드 함수 그래프"
   ],
   "id": "58d8d5733261a8d4",
   "outputs": [
    {
     "data": {
      "text/plain": [
       "<Figure size 640x480 with 1 Axes>"
      ],
      "image/png": "[encoded data removed]"
     },
     "metadata": {},
     "output_type": "display_data"
    }
   ],
   "execution_count": 10
  },
  {
   "metadata": {
    "ExecuteTime": {
     "end_time": "2025-03-18T07:09:01.913780Z",
     "start_time": "2025-03-18T07:09:01.879917Z"
    }
   },
   "cell_type": "code",
   "source": [
    "#로지스틱 회귀로 이진 분류 수행하기\n",
    "#불리언 인뎃싱 : 참, 거짓 값을 전달 하여 행을 선택\n",
    "char_arr = np.array(['A', 'B', 'C', 'D', 'E'])\n",
    "print(char_arr[[True, False, True, False, False]])"
   ],
   "id": "f4760860910a49c9",
   "outputs": [
    {
     "name": "stdout",
     "output_type": "stream",
     "text": [
      "['A' 'C']\n"
     ]
    }
   ],
   "execution_count": 11
  },
  {
   "metadata": {
    "ExecuteTime": {
     "end_time": "2025-03-18T07:09:01.979666Z",
     "start_time": "2025-03-18T07:09:01.973543Z"
    }
   },
   "cell_type": "code",
   "source": [
    "bream_smelt_indexes = (train_target == 'Bream') | (train_target == 'Smelt')\n",
    "train_bream_smelt = train_scaled[bream_smelt_indexes]\n",
    "target_bream_smelt = train_target[bream_smelt_indexes]\n",
    "#bream_smelt_indexes 배열은 도미와 빙어 일 경우 참이고, 그 외의 모두 거짓값이 들어간다."
   ],
   "id": "a483173d3813007a",
   "outputs": [],
   "execution_count": 12
  },
  {
   "metadata": {
    "ExecuteTime": {
     "end_time": "2025-03-18T07:09:02.304033Z",
     "start_time": "2025-03-18T07:09:02.249333Z"
    }
   },
   "cell_type": "code",
   "source": [
    "from sklearn.linear_model import LogisticRegression\n",
    "lr = LogisticRegression()\n",
    "lr.fit(train_bream_smelt, target_bream_smelt)\n",
    "print(lr.predict(train_bream_smelt)[:5]) # 예측 값\n",
    "print(lr.predict_proba(train_bream_smelt)[:5]) # 첫번째 열: 음성클래스에 대한 확률, 두번째 : 양성 클래스에 대한 확륙\n",
    "print(lr.classes_)#빙어(smelt)가 양성 클래스"
   ],
   "id": "8a0cfa98b74ef653",
   "outputs": [
    {
     "name": "stdout",
     "output_type": "stream",
     "text": [
      "['Bream' 'Smelt' 'Bream' 'Bream' 'Bream']\n",
      "[[0.99760007 0.00239993]\n",
      " [0.02737325 0.97262675]\n",
      " [0.99486386 0.00513614]\n",
      " [0.98585047 0.01414953]\n",
      " [0.99767419 0.00232581]]\n",
      "['Bream' 'Smelt']\n"
     ]
    }
   ],
   "execution_count": 13
  },
  {
   "metadata": {
    "ExecuteTime": {
     "end_time": "2025-03-18T07:09:02.465713Z",
     "start_time": "2025-03-18T07:09:02.460091Z"
    }
   },
   "cell_type": "code",
   "source": [
    "decisions = lr.decision_function(train_bream_smelt[:5])\n",
    "from scipy.special import expit\n",
    "print(expit(decisions)) # lr.predict_proba의 두번째 열과 같음 즉, 양성 클래스에 대한 z값 반환"
   ],
   "id": "48bc01099f875b8c",
   "outputs": [
    {
     "name": "stdout",
     "output_type": "stream",
     "text": [
      "[0.00239993 0.97262675 0.00513614 0.01414953 0.00232581]\n"
     ]
    }
   ],
   "execution_count": 14
  },
  {
   "metadata": {},
   "cell_type": "markdown",
   "source": [
    "**로지스틱 회귀로 다중 분류 수행하기**<br>\n",
    "L2 규제 : 계수를 줄이는, alpha와 반대로 C는 작을수록 규제가 크다."
   ],
   "id": "c6795b8c8bf620c4"
  },
  {
   "metadata": {
    "ExecuteTime": {
     "end_time": "2025-03-18T07:09:02.632246Z",
     "start_time": "2025-03-18T07:09:02.555568Z"
    }
   },
   "cell_type": "code",
   "source": [
    "lr = LogisticRegression(C = 20, max_iter = 10000)\n",
    "lr.fit(train_scaled, train_target)\n",
    "print(lr.score(train_scaled, train_target))\n",
    "print(lr.score(test_scaled, test_target))"
   ],
   "id": "c1af154791f345f4",
   "outputs": [
    {
     "name": "stdout",
     "output_type": "stream",
     "text": [
      "0.9327731092436975\n",
      "0.925\n"
     ]
    }
   ],
   "execution_count": 15
  },
  {
   "metadata": {
    "ExecuteTime": {
     "end_time": "2025-03-18T07:09:02.657386Z",
     "start_time": "2025-03-18T07:09:02.652793Z"
    }
   },
   "cell_type": "code",
   "source": "print(lr.predict(test_scaled[:5]))",
   "id": "59771e59f07682fb",
   "outputs": [
    {
     "name": "stdout",
     "output_type": "stream",
     "text": [
      "['Perch' 'Smelt' 'Pike' 'Roach' 'Perch']\n"
     ]
    }
   ],
   "execution_count": 16
  },
  {
   "metadata": {
    "ExecuteTime": {
     "end_time": "2025-03-18T07:09:02.732397Z",
     "start_time": "2025-03-18T07:09:02.726129Z"
    }
   },
   "cell_type": "code",
   "source": [
    "proba = lr.predict_proba(test_scaled[:5])\n",
    "print(np.round(proba, decimals=3))"
   ],
   "id": "bb5b45110d13e2f7",
   "outputs": [
    {
     "name": "stdout",
     "output_type": "stream",
     "text": [
      "[[0.    0.014 0.842 0.    0.135 0.007 0.003]\n",
      " [0.    0.003 0.044 0.    0.007 0.946 0.   ]\n",
      " [0.    0.    0.034 0.934 0.015 0.016 0.   ]\n",
      " [0.011 0.034 0.305 0.006 0.567 0.    0.076]\n",
      " [0.    0.    0.904 0.002 0.089 0.002 0.001]]\n"
     ]
    }
   ],
   "execution_count": 17
  },
  {
   "metadata": {
    "ExecuteTime": {
     "end_time": "2025-03-18T07:09:02.743339Z",
     "start_time": "2025-03-18T07:09:02.739514Z"
    }
   },
   "cell_type": "code",
   "source": "print(lr.classes_)\n",
   "id": "955c04554e707392",
   "outputs": [
    {
     "name": "stdout",
     "output_type": "stream",
     "text": [
      "['Bream' 'Parkki' 'Perch' 'Pike' 'Roach' 'Smelt' 'Whitefish']\n"
     ]
    }
   ],
   "execution_count": 18
  },
  {
   "metadata": {
    "ExecuteTime": {
     "end_time": "2025-03-18T07:09:02.819780Z",
     "start_time": "2025-03-18T07:09:02.786800Z"
    }
   },
   "cell_type": "code",
   "source": "print(lr.coef_.shape,lr.intercept_.shape)",
   "id": "a10f887ad6cba941",
   "outputs": [
    {
     "name": "stdout",
     "output_type": "stream",
     "text": [
      "(7, 5) (7,)\n"
     ]
    }
   ],
   "execution_count": 19
  },
  {
   "metadata": {
    "ExecuteTime": {
     "end_time": "2025-03-18T07:09:02.879419Z",
     "start_time": "2025-03-18T07:09:02.874102Z"
    }
   },
   "cell_type": "code",
   "source": [
    "decision = lr.decision_function(test_scaled[:5])\n",
    "print(np.round(decisions, decimals=2))"
   ],
   "id": "f6d6c2bb9e657a4c",
   "outputs": [
    {
     "name": "stdout",
     "output_type": "stream",
     "text": [
      "[-6.03  3.57 -5.27 -4.24 -6.06]\n"
     ]
    }
   ],
   "execution_count": 20
  },
  {
   "metadata": {
    "ExecuteTime": {
     "end_time": "2025-03-18T07:09:02.921442Z",
     "start_time": "2025-03-18T07:09:02.916542Z"
    }
   },
   "cell_type": "code",
   "source": [
    "from scipy.special import softmax\n",
    "proba = softmax(decision, axis =1)\n",
    "print(np.round(proba, decimals=3))"
   ],
   "id": "8ec4c458ebf83246",
   "outputs": [
    {
     "name": "stdout",
     "output_type": "stream",
     "text": [
      "[[0.    0.014 0.842 0.    0.135 0.007 0.003]\n",
      " [0.    0.003 0.044 0.    0.007 0.946 0.   ]\n",
      " [0.    0.    0.034 0.934 0.015 0.016 0.   ]\n",
      " [0.011 0.034 0.305 0.006 0.567 0.    0.076]\n",
      " [0.    0.    0.904 0.002 0.089 0.002 0.001]]\n"
     ]
    }
   ],
   "execution_count": 21
  },
  {
   "metadata": {},
   "cell_type": "markdown",
   "source": "# 확률적 경사 하강법",
   "id": "f1cd8cff75bd85b2"
  },
  {
   "metadata": {},
   "cell_type": "markdown",
   "source": [
    "**점진적 학습**(온라인 학습)\n",
    "* 확률적 경사 하강법 : 한개씩 꺼내 학습\n",
    "* 미니배치 경사 하강법 : 여러개씩 꺼내 학습\n",
    "* 배치 경사 하강법 : 몽땅 꺼내 학습"
   ],
   "id": "e784ba1b9863a39c"
  },
  {
   "metadata": {},
   "cell_type": "markdown",
   "source": [
    "**손실 함수** : 머신러닝 알고리즘이 얼마나 부적합한지 측정하는 기준(어떤 값이 최소값인지는 알수없음)\n",
    "* 로지스틱 손실 함수(이진 크로스엔트로피 손실함수) : 이진 분류\n",
    "* 크로스엔트로피 손실 함수 : 다중 분류\n",
    "* 평균제곱의 오차 : 회귀"
   ],
   "id": "d3863909f6769bb6"
  },
  {
   "metadata": {
    "ExecuteTime": {
     "end_time": "2025-03-18T23:20:21.480391Z",
     "start_time": "2025-03-18T23:20:19.603405Z"
    }
   },
   "cell_type": "code",
   "source": [
    "#SGDClassifier\n",
    "import pandas as pd\n",
    "fish = pd.read_csv('http://bit.ly/fish_csv')\n",
    "\n",
    "fish_input = fish[['Weight', 'Length', 'Diagonal', 'Height',\"Width\"]].to_numpy()\n",
    "fish_target = fish['Species'].to_numpy()"
   ],
   "id": "f01acb84a87f0bf2",
   "outputs": [],
   "execution_count": 1
  },
  {
   "metadata": {
    "ExecuteTime": {
     "end_time": "2025-03-18T23:22:36.197508Z",
     "start_time": "2025-03-18T23:22:35.035433Z"
    }
   },
   "cell_type": "code",
   "source": [
    "from sklearn.model_selection import train_test_split\n",
    "train_input, test_input, train_target, test_target = train_test_split(fish_input, fish_target, random_state=42)"
   ],
   "id": "9a47fe210b9569f6",
   "outputs": [],
   "execution_count": 2
  },
  {
   "metadata": {
    "ExecuteTime": {
     "end_time": "2025-03-19T00:26:18.209291Z",
     "start_time": "2025-03-19T00:26:18.166858Z"
    }
   },
   "cell_type": "code",
   "source": [
    "from sklearn.preprocessing import StandardScaler\n",
    "ss = StandardScaler()\n",
    "ss.fit(train_input)\n",
    "train_scaled = ss.transform(train_input)\n",
    "test_scaled = ss.transform(test_input)"
   ],
   "id": "fe125ab93444abc8",
   "outputs": [],
   "execution_count": 6
  },
  {
   "metadata": {
    "ExecuteTime": {
     "end_time": "2025-03-19T00:26:34.314154Z",
     "start_time": "2025-03-19T00:26:34.304001Z"
    }
   },
   "cell_type": "code",
   "source": "from sklearn.linear_model import SGDClassifier #객체를 만들때 2개의 매개변수를 지정",
   "id": "b68ac0cb061d5a29",
   "outputs": [],
   "execution_count": 7
  },
  {
   "metadata": {
    "ExecuteTime": {
     "end_time": "2025-03-19T00:29:55.795332Z",
     "start_time": "2025-03-19T00:29:55.731566Z"
    }
   },
   "cell_type": "code",
   "source": [
    "#loss = 로지스틱 손실 함수 지정, max_iter=수행할 에포크 횟수\n",
    "sc = SGDClassifier(loss='log_loss', max_iter=10, random_state=42)\n",
    "sc.fit(train_scaled, train_target)\n",
    "print(sc.score(train_scaled, train_target))\n",
    "print(sc.score(test_scaled, test_target))\n",
    "#"
   ],
   "id": "9b675a132a94f7a6",
   "outputs": [
    {
     "name": "stdout",
     "output_type": "stream",
     "text": [
      "0.7899159663865546\n",
      "0.775\n"
     ]
    },
    {
     "name": "stderr",
     "output_type": "stream",
     "text": [
      "/Users/bagso-eun/miniconda3/envs/hongong/lib/python3.12/site-packages/sklearn/linear_model/_stochastic_gradient.py:738: ConvergenceWarning: Maximum number of iteration reached before convergence. Consider increasing max_iter to improve the fit.\n",
      "  warnings.warn(\n"
     ]
    }
   ],
   "execution_count": 12
  },
  {
   "metadata": {
    "ExecuteTime": {
     "end_time": "2025-03-19T00:36:39.617619Z",
     "start_time": "2025-03-19T00:36:39.518533Z"
    }
   },
   "cell_type": "code",
   "source": [
    "sc.partial_fit(train_scaled, train_target)\n",
    "print(sc.score(train_scaled, train_target))\n",
    "print(sc.score(test_scaled, test_target))\n",
    "#에포크를 한번 더 실해하니 정확도가 향상됨, 하지만 아직 작음\n",
    "#계속이렇게 반복하긴 번거로우니 어떤 기준이 필요 할거 같음"
   ],
   "id": "fd1dac126ff43b98",
   "outputs": [
    {
     "name": "stdout",
     "output_type": "stream",
     "text": [
      "0.8067226890756303\n",
      "0.8\n"
     ]
    }
   ],
   "execution_count": 13
  },
  {
   "metadata": {},
   "cell_type": "markdown",
   "source": [
    "**에포크와 과대/과소 접합**<br>\n",
    "테스트 세트가 감소하기 전 즉 과대적합이 시작하기 전 훈련을 멈추는 것 : **조기 종료**"
   ],
   "id": "847b1c0191597ac0"
  },
  {
   "metadata": {},
   "cell_type": "code",
   "outputs": [],
   "execution_count": null,
   "source": "",
   "id": "ae0d104071fc7be"
  }
 ],
 "metadata": {
  "kernelspec": {
   "display_name": "Python 3",
   "language": "python",
   "name": "python3"
  },
  "language_info": {
   "codemirror_mode": {
    "name": "ipython",
    "version": 2
   },
   "file_extension": ".py",
   "mimetype": "text/x-python",
   "name": "python",
   "nbconvert_exporter": "python",
   "pygments_lexer": "ipython2",
   "version": "2.7.6"
  }
 },
 "nbformat": 4,
 "nbformat_minor": 5
}
